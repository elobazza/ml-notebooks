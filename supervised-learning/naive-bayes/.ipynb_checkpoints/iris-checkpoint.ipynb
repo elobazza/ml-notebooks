{
 "cells": [
  {
   "cell_type": "markdown",
   "id": "70b48ec2",
   "metadata": {},
   "source": [
    "# Flower Classification using Naive Bayes\n",
    "\n",
    "In this notebook I will build a model to classify the classic Iris dataset. This dataset shows a set of measurements of the petals and sepals of three flower species: setosa, versicolor and virginica.\n",
    "\n",
    "### Step 01: Importing Libs\n",
    "\n",
    "I will use pandas library for data structures, and sklearn for everything that involves learning"
   ]
  },
  {
   "cell_type": "code",
   "execution_count": 1,
   "id": "6b1e27c1",
   "metadata": {},
   "outputs": [],
   "source": [
    "import pandas as pd\n",
    "\n",
    "from sklearn.datasets import load_iris\n",
    "from sklearn.model_selection import train_test_split\n",
    "from sklearn.naive_bayes import GaussianNB\n",
    "from sklearn.metrics import accuracy_score, classification_report, confusion_matrix"
   ]
  },
  {
   "cell_type": "markdown",
   "id": "f7bd6cb5",
   "metadata": {},
   "source": [
    "### Step 02: Loading Iris Dataset\n",
    "\n",
    "The iris dataset is available on sklearn. Separating Training and Testing Base."
   ]
  },
  {
   "cell_type": "code",
   "execution_count": 6,
   "id": "22481817",
   "metadata": {},
   "outputs": [],
   "source": [
    "iris = load_iris()\n",
    "\n",
    "X, y = iris.data, iris.target\n",
    "class_names = iris.target_names\n",
    "\n",
    "\n",
    "X_train, X_test, y_train, y_test = train_test_split(X, y, random_state=0)"
   ]
  },
  {
   "cell_type": "markdown",
   "id": "5d7f06eb",
   "metadata": {},
   "source": [
    "### Step 03: Training model and get Accuracy\n",
    "\n",
    "The code trains a Naive Bayes Gaussian model with training data, makes understanding with test data and prints the accuracy of these differences."
   ]
  },
  {
   "cell_type": "code",
   "execution_count": 7,
   "id": "2b8b3082",
   "metadata": {},
   "outputs": [
    {
     "name": "stdout",
     "output_type": "stream",
     "text": [
      "Accuracy:  1.0\n"
     ]
    }
   ],
   "source": [
    "gnb = GaussianNB()\n",
    "y_pred = gnb.fit(X_train, y_train).predict(X_test)\n",
    "\n",
    "accuracy = gnb.score(X_test, y_test)\n",
    "print(\"Accuracy: \", accuracy)"
   ]
  },
  {
   "cell_type": "markdown",
   "id": "7e49da53",
   "metadata": {},
   "source": [
    "### Step 04: How well the Model is Performing?\n",
    "\n",
    "Generate a detailed classification report to evaluate the model's performance for each class, allowing you to identify which classes are being correctly classified and which may need improvement."
   ]
  },
  {
   "cell_type": "code",
   "execution_count": 8,
   "id": "9e3de783",
   "metadata": {},
   "outputs": [
    {
     "name": "stdout",
     "output_type": "stream",
     "text": [
      "              precision    recall  f1-score   support\n",
      "\n",
      "      setosa       1.00      1.00      1.00        13\n",
      "  versicolor       1.00      1.00      1.00        16\n",
      "   virginica       1.00      1.00      1.00         9\n",
      "\n",
      "    accuracy                           1.00        38\n",
      "   macro avg       1.00      1.00      1.00        38\n",
      "weighted avg       1.00      1.00      1.00        38\n",
      "\n"
     ]
    }
   ],
   "source": [
    "print(classification_report(y_test, y_pred, target_names=iris.target_names))"
   ]
  },
  {
   "cell_type": "markdown",
   "id": "20194a4d",
   "metadata": {},
   "source": [
    "### Step 05: Confusion Matrix\n",
    "\n",
    "Displays a confusion matrix to evaluate the performance of the classification model. The confusion matrix is a table that allows you to visualize the performance of the classification algorithm, showing the count of true positives, false positives, true negatives and false negatives for each class"
   ]
  },
  {
   "cell_type": "code",
   "execution_count": 9,
   "id": "1ab6cb6a",
   "metadata": {},
   "outputs": [
    {
     "name": "stdout",
     "output_type": "stream",
     "text": [
      "            setosa (prev)  versicolor (prev)  virginica (prev)\n",
      "setosa                 13                  0                 0\n",
      "versicolor              0                 16                 0\n",
      "virginica               0                  0                 9\n"
     ]
    }
   ],
   "source": [
    "c_matrix = confusion_matrix(y_test, y_pred)\n",
    "c_table = pd.DataFrame(data=c_matrix, index=iris.target_names, columns=[x + \" (prev)\" for x in iris.target_names])\n",
    "print(c_table)"
   ]
  },
  {
   "cell_type": "markdown",
   "id": "3cf06ff1",
   "metadata": {},
   "source": [
    "### Considerations\n",
    "\n",
    "It is a very simple dataset, which is why the results were so excellent, the model correctly classified all species"
   ]
  }
 ],
 "metadata": {
  "kernelspec": {
   "display_name": "Python 3 (ipykernel)",
   "language": "python",
   "name": "python3"
  },
  "language_info": {
   "codemirror_mode": {
    "name": "ipython",
    "version": 3
   },
   "file_extension": ".py",
   "mimetype": "text/x-python",
   "name": "python",
   "nbconvert_exporter": "python",
   "pygments_lexer": "ipython3",
   "version": "3.11.3"
  }
 },
 "nbformat": 4,
 "nbformat_minor": 5
}
