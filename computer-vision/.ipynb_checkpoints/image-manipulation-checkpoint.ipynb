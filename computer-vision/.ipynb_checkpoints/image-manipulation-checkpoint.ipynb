{
 "cells": [
  {
   "cell_type": "markdown",
   "id": "33ecd0ac",
   "metadata": {},
   "source": [
    "# [In Progress] Image Manipulation"
   ]
  },
  {
   "cell_type": "code",
   "execution_count": 4,
   "id": "ba19dace",
   "metadata": {},
   "outputs": [],
   "source": [
    "import cv2\n",
    "from IPython.display import display\n",
    "from PIL import Image as PILImage\n",
    "import numpy as np"
   ]
  },
  {
   "cell_type": "code",
   "execution_count": 5,
   "id": "2b2b5b14",
   "metadata": {},
   "outputs": [],
   "source": [
    "def imshow(img):\n",
    "    img_rgb = cv2.cvtColor(img, cv2.COLOR_BGR2RGB)\n",
    "    pil_img = PILImage.fromarray(img_rgb)\n",
    "    display(pil_img)"
   ]
  },
  {
   "cell_type": "code",
   "execution_count": 6,
   "id": "c93b3390",
   "metadata": {},
   "outputs": [
    {
     "data": {
      "image/png": "[encoded data removed]",
      "text/plain": [
       "<PIL.Image.Image image mode=RGB size=500x500>"
      ]
     },
     "metadata": {},
     "output_type": "display_data"
    }
   ],
   "source": [
    "img = np.zeros((500,500,3), np.uint8)\n",
    "img[:] = (193, 182, 255) \n",
    "img = cv2.line(img, (149, 300), (249, 380), (0, 0, 255), 5)\n",
    "img = cv2.line(img, (349, 300), (249, 380), (0, 0, 255), 5)\n",
    "\n",
    "img = cv2.line(img, (300, 150), (249, 200), (0, 0, 255), 5)\n",
    "img = cv2.line(img, (200, 150), (249, 200), (0, 0, 255), 5)\n",
    "\n",
    "img = cv2.line(img, (149, 300), (149, 200), (0, 0, 255), 5)\n",
    "img = cv2.line(img, (349, 300), (349, 200), (0, 0, 255), 5)\n",
    "\n",
    "img = cv2.line(img, (200, 150), (149, 200), (0, 0, 255), 5)\n",
    "img = cv2.line(img, (300, 150), (349, 200), (0, 0, 255), 5)\n",
    "\n",
    "imshow(img)"
   ]
  },
  {
   "cell_type": "code",
   "execution_count": null,
   "id": "2235ff7b",
   "metadata": {},
   "outputs": [],
   "source": []
  }
 ],
 "metadata": {
  "kernelspec": {
   "display_name": "Python 3 (ipykernel)",
   "language": "python",
   "name": "python3"
  },
  "language_info": {
   "codemirror_mode": {
    "name": "ipython",
    "version": 3
   },
   "file_extension": ".py",
   "mimetype": "text/x-python",
   "name": "python",
   "nbconvert_exporter": "python",
   "pygments_lexer": "ipython3",
   "version": "3.11.3"
  }
 },
 "nbformat": 4,
 "nbformat_minor": 5
}
